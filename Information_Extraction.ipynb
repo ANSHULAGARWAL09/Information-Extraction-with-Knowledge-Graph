{
  "nbformat": 4,
  "nbformat_minor": 0,
  "metadata": {
    "colab": {
      "name": "Information Extraction.ipynb",
      "provenance": [],
      "collapsed_sections": [],
      "authorship_tag": "ABX9TyOIHq5OhxbXBC6RU+Pfb6V5",
      "include_colab_link": true
    },
    "kernelspec": {
      "name": "python3",
      "display_name": "Python 3"
    }
  },
  "cells": [
    {
      "cell_type": "markdown",
      "metadata": {
        "id": "view-in-github",
        "colab_type": "text"
      },
      "source": [
        "<a href=\"https://colab.research.google.com/github/ANSHULAGARWAL09/Information-Extraction-with-Knowledge-Graph/blob/master/Information_Extraction.ipynb\" target=\"_parent\"><img src=\"https://colab.research.google.com/assets/colab-badge.svg\" alt=\"Open In Colab\"/></a>"
      ]
    },
    {
      "cell_type": "markdown",
      "metadata": {
        "id": "gJQFIs_4CEAN",
        "colab_type": "text"
      },
      "source": [
        "Information extraction is a technique of extracting structured information from unstructured text. A knowledge graph is a way of storing data that resulted from an information extraction task."
      ]
    },
    {
      "cell_type": "markdown",
      "metadata": {
        "id": "2Heze7RkBzn3",
        "colab_type": "text"
      },
      "source": [
        " Information extracted and prepared a small knowledge graph that will contain structured information extracted from unstructured text taken from WHO on COVID-19. "
      ]
    },
    {
      "cell_type": "markdown",
      "metadata": {
        "id": "ZTtuAgrJHXli",
        "colab_type": "text"
      },
      "source": [
        "Here we will see two methods for Information Extraction:\n",
        "1. spaCy’s Rule-Based Matching\n",
        "2. Subtree Matching for Relation Extraction"
      ]
    },
    {
      "cell_type": "markdown",
      "metadata": {
        "id": "gzO24UZaHqln",
        "colab_type": "text"
      },
      "source": [
        "**1.Spacy's Rule-Based Matching**"
      ]
    },
    {
      "cell_type": "code",
      "metadata": {
        "id": "yMTyAp3hrj8e",
        "colab_type": "code",
        "colab": {}
      },
      "source": [
        "import spacy\n",
        "from spacy.lang.en import English\n",
        "import networkx as nx\n",
        "import matplotlib.pyplot as plt"
      ],
      "execution_count": 0,
      "outputs": []
    },
    {
      "cell_type": "code",
      "metadata": {
        "id": "bU-fgXRurn0e",
        "colab_type": "code",
        "colab": {}
      },
      "source": [
        "def getSentences(text):\n",
        "    nlp = English()\n",
        "    nlp.add_pipe(nlp.create_pipe('sentencizer'))\n",
        "    document = nlp(text)\n",
        "    return [sent.string.strip() for sent in document.sents]"
      ],
      "execution_count": 0,
      "outputs": []
    },
    {
      "cell_type": "code",
      "metadata": {
        "id": "IxkLN8VBr46f",
        "colab_type": "code",
        "colab": {}
      },
      "source": [
        "def printToken(token):\n",
        "    print(token.text, \"->\", token.dep_)\n",
        "\n",
        "def appendChunk(original, chunk):\n",
        "    return original + ' ' + chunk\n"
      ],
      "execution_count": 0,
      "outputs": []
    },
    {
      "cell_type": "code",
      "metadata": {
        "id": "f3MvWCQ-r5kD",
        "colab_type": "code",
        "colab": {}
      },
      "source": [
        "def isRelationCandidate(token):\n",
        "    deps = [\"adj\", \"attr\", \"agent\", \"amod\"]\n",
        "    return any(subs in token.dep_ for subs in deps)\n",
        "\n",
        "def isConstructionCandidate(token):\n",
        "    deps = [\"compound\", \"conj\", \"mod\"]\n",
        "    return any(subs in token.dep_ for subs in deps)\n"
      ],
      "execution_count": 0,
      "outputs": []
    },
    {
      "cell_type": "code",
      "metadata": {
        "id": "VlvdBAlnr9QM",
        "colab_type": "code",
        "colab": {}
      },
      "source": [
        "def processSubjectObjectPairs(tokens):\n",
        "    subject = ''\n",
        "    object = ''\n",
        "    relation = ''\n",
        "    subjectConstruction = ''\n",
        "    objectConstruction = ''\n",
        "    for token in tokens:\n",
        "        printToken(token)\n",
        "        if \"punct\" in token.dep_:\n",
        "            continue\n",
        "        if isRelationCandidate(token):\n",
        "            relation = appendChunk(relation, token.lemma_)\n",
        "        if isConstructionCandidate(token):\n",
        "            if subjectConstruction:\n",
        "                subjectConstruction = appendChunk(subjectConstruction, token.text)\n",
        "            if objectConstruction:\n",
        "                objectConstruction = appendChunk(objectConstruction, token.text)\n",
        "        if \"subj\" in token.dep_:\n",
        "            subject = appendChunk(subject, token.text)\n",
        "            subject = appendChunk(subjectConstruction, subject)\n",
        "            subjectConstruction = ''\n",
        "        if \"obj\" in token.dep_:\n",
        "            object = appendChunk(object, token.text)\n",
        "            object = appendChunk(objectConstruction, object)\n",
        "            objectConstruction = ''\n",
        "\n",
        "    print (subject.strip(), \",\", relation.strip(), \",\", object.strip())\n",
        "    return (subject.strip(), relation.strip(), object.strip())"
      ],
      "execution_count": 0,
      "outputs": []
    },
    {
      "cell_type": "code",
      "metadata": {
        "id": "1AScloR8sDJ5",
        "colab_type": "code",
        "colab": {}
      },
      "source": [
        "def processSentence(sentence):\n",
        "    tokens = nlp_model(sentence)\n",
        "    return processSubjectObjectPairs(tokens)\n",
        " "
      ],
      "execution_count": 0,
      "outputs": []
    },
    {
      "cell_type": "code",
      "metadata": {
        "id": "aiVQkjQusl2G",
        "colab_type": "code",
        "colab": {}
      },
      "source": [
        "def printGraph(triples):\n",
        "    G = nx.Graph()\n",
        "    for triple in triples:\n",
        "        G.add_node(triple[0])\n",
        "        G.add_node(triple[1])\n",
        "        G.add_node(triple[2])\n",
        "        G.add_edge(triple[0], triple[1])\n",
        "        G.add_edge(triple[1], triple[2])\n",
        "\n",
        "    pos = nx.spring_layout(G)\n",
        "    plt.figure()\n",
        "    nx.draw(G, pos, edge_color='black', width=1, linewidths=3,\n",
        "            node_size=450, node_color='pink',  alpha=0.8,\n",
        "            labels={node: node for node in G.nodes()})\n",
        "    plt.axis('auto')\n",
        "    plt.show()"
      ],
      "execution_count": 0,
      "outputs": []
    },
    {
      "cell_type": "code",
      "metadata": {
        "id": "EpJdAYKxs2GP",
        "colab_type": "code",
        "outputId": "8249e88d-fcba-4629-b461-4bb54f07f418",
        "colab": {
          "base_uri": "https://localhost:8080/",
          "height": 1000
        }
      },
      "source": [
        "text = \"Coronavirus disease (COVID-19) is an infectious disease caused by a newly discovered coronavirus.Most people infected with the COVID-19 virus will experience mild to moderate respiratory illness and recover without requiring special treatment.The best way to prevent and slow down transmission, is be well informed about the disease and how it's spreading. Protect yourself and others from infection by washing your hands or using an alcohol based rub frequently and not touching your face.The COVID-19 virus spreads primarily through droplets of saliva or discharge from the nose when an infected person coughs or sneezes, so it’s important that you also practice respiratory etiquette. There are no specific vaccines or treatments. However, there are many ongoing clinical trials evaluating potential treatments. WHO will continue to provide updated information.\"\n",
        "\n",
        "sentences = getSentences(text)\n",
        "nlp_model = spacy.load('en_core_web_sm')\n",
        "\n",
        "triples = []\n",
        "print (text)\n",
        "for sentence in sentences:\n",
        "    triples.append(processSentence(sentence))\n",
        "\n",
        "printGraph(triples)\n"
      ],
      "execution_count": 296,
      "outputs": [
        {
          "output_type": "stream",
          "text": [
            "Coronavirus disease (COVID-19) is an infectious disease caused by a newly discovered coronavirus.Most people infected with the COVID-19 virus will experience mild to moderate respiratory illness and recover without requiring special treatment.The best way to prevent and slow down transmission, is be well informed about the disease and how it's spreading. Protect yourself and others from infection by washing your hands or using an alcohol based rub frequently and not touching your face.The COVID-19 virus spreads primarily through droplets of saliva or discharge from the nose when an infected person coughs or sneezes, so it’s important that you also practice respiratory etiquette. There are no specific vaccines or treatments. However, there are many ongoing clinical trials evaluating potential treatments. WHO will continue to provide updated information.\n",
            "Coronavirus -> compound\n",
            "disease -> nsubj\n",
            "( -> punct\n",
            "COVID-19 -> appos\n",
            ") -> punct\n",
            "is -> ROOT\n",
            "an -> det\n",
            "infectious -> amod\n",
            "disease -> attr\n",
            "caused -> acl\n",
            "by -> agent\n",
            "a -> det\n",
            "newly -> advmod\n",
            "discovered -> amod\n",
            "coronavirus -> pobj\n",
            ". -> punct\n",
            "disease , infectious disease by discover , coronavirus\n",
            "Most -> amod\n",
            "people -> nsubj\n",
            "infected -> acl\n",
            "with -> prep\n",
            "the -> det\n",
            "COVID-19 -> amod\n",
            "virus -> pobj\n",
            "will -> aux\n",
            "experience -> ROOT\n",
            "mild -> acomp\n",
            "to -> prep\n",
            "moderate -> pobj\n",
            "respiratory -> amod\n",
            "illness -> dobj\n",
            "and -> cc\n",
            "recover -> conj\n",
            "without -> prep\n",
            "requiring -> pcomp\n",
            "special -> amod\n",
            "treatment -> dobj\n",
            ". -> punct\n",
            "people , Most covid-19 respiratory special , virus moderate illness treatment\n",
            "The -> det\n",
            "best -> amod\n",
            "way -> nsubjpass\n",
            "to -> aux\n",
            "prevent -> relcl\n",
            "and -> cc\n",
            "slow -> conj\n",
            "down -> prt\n",
            "transmission -> dobj\n",
            ", -> punct\n",
            "is -> auxpass\n",
            "be -> auxpass\n",
            "well -> advmod\n",
            "informed -> ROOT\n",
            "about -> prep\n",
            "the -> det\n",
            "disease -> pobj\n",
            "and -> cc\n",
            "how -> advmod\n",
            "it -> nsubj\n",
            "'s -> aux\n",
            "spreading -> conj\n",
            ". -> punct\n",
            "way it , good , transmission disease\n",
            "Protect -> ROOT\n",
            "yourself -> dobj\n",
            "and -> cc\n",
            "others -> conj\n",
            "from -> prep\n",
            "infection -> pobj\n",
            "by -> prep\n",
            "washing -> pcomp\n",
            "your -> poss\n",
            "hands -> dobj\n",
            "or -> cc\n",
            "using -> conj\n",
            "an -> det\n",
            "alcohol -> npadvmod\n",
            "based -> amod\n",
            "rub -> dobj\n",
            "frequently -> advmod\n",
            "and -> cc\n",
            "not -> neg\n",
            "touching -> xcomp\n",
            "your -> poss\n",
            "face -> dobj\n",
            ". -> punct\n",
            " , base , yourself infection hands rub face\n",
            "The -> det\n",
            "COVID-19 -> amod\n",
            "virus -> nsubj\n",
            "spreads -> ROOT\n",
            "primarily -> advmod\n",
            "through -> prep\n",
            "droplets -> pobj\n",
            "of -> prep\n",
            "saliva -> pobj\n",
            "or -> cc\n",
            "discharge -> conj\n",
            "from -> prep\n",
            "the -> det\n",
            "nose -> pobj\n",
            "when -> advmod\n",
            "an -> det\n",
            "infected -> amod\n",
            "person -> nsubj\n",
            "coughs -> advcl\n",
            "or -> cc\n",
            "sneezes -> conj\n",
            ", -> punct\n",
            "so -> cc\n",
            "it -> nsubj\n",
            "’s -> ROOT\n",
            "important -> acomp\n",
            "that -> mark\n",
            "you -> nsubj\n",
            "also -> advmod\n",
            "practice -> ccomp\n",
            "respiratory -> amod\n",
            "etiquette -> dobj\n",
            ". -> punct\n",
            "virus person it you , covid-19 infected respiratory , droplets saliva nose etiquette\n",
            "There -> expl\n",
            "are -> ROOT\n",
            "no -> det\n",
            "specific -> amod\n",
            "vaccines -> attr\n",
            "or -> cc\n",
            "treatments -> conj\n",
            ". -> punct\n",
            " , specific vaccine , \n",
            "However -> advmod\n",
            ", -> punct\n",
            "there -> expl\n",
            "are -> ROOT\n",
            "many -> amod\n",
            "ongoing -> amod\n",
            "clinical -> amod\n",
            "trials -> attr\n",
            "evaluating -> acl\n",
            "potential -> amod\n",
            "treatments -> dobj\n",
            ". -> punct\n",
            " , many ongoing clinical trial potential , treatments\n",
            "WHO -> nsubj\n",
            "will -> aux\n",
            "continue -> ROOT\n",
            "to -> aux\n",
            "provide -> xcomp\n",
            "updated -> amod\n",
            "information -> dobj\n",
            ". -> punct\n",
            "WHO , updated , information\n"
          ],
          "name": "stdout"
        },
        {
          "output_type": "display_data",
          "data": {
            "image/png": "[encoded data removed]",
            "text/plain": [
              "<Figure size 432x288 with 1 Axes>"
            ]
          },
          "metadata": {
            "tags": []
          }
        }
      ]
    },
    {
      "cell_type": "markdown",
      "metadata": {
        "id": "8-Fhgd2VHyq7",
        "colab_type": "text"
      },
      "source": [
        "**2. Subtree Matching for Relation Extraction**"
      ]
    },
    {
      "cell_type": "code",
      "metadata": {
        "id": "ioBxhRmoIco0",
        "colab_type": "code",
        "colab": {}
      },
      "source": [
        "from spacy import displacy"
      ],
      "execution_count": 0,
      "outputs": []
    },
    {
      "cell_type": "code",
      "metadata": {
        "id": "VNHWuSrAIL-_",
        "colab_type": "code",
        "colab": {}
      },
      "source": [
        "nlp = spacy.load(\"en_core_web_sm\")"
      ],
      "execution_count": 0,
      "outputs": []
    },
    {
      "cell_type": "code",
      "metadata": {
        "id": "TfM87FAmI7aK",
        "colab_type": "code",
        "colab": {}
      },
      "source": [
        "def subtree_matcher(doc): \n",
        "  x = '' \n",
        "  y = '' \n",
        "  \n",
        "  # iterate through all the tokens in the input sentence \n",
        "  for i,tok in enumerate(doc): \n",
        "    # extract subject \n",
        "    if tok.dep_.find(\"subjpass\") == True: \n",
        "      y = tok.text \n",
        "      \n",
        "    # extract object \n",
        "    if tok.dep_.endswith(\"obj\") == True: \n",
        "      x = tok.text \n",
        "      \n",
        "  return x,y"
      ],
      "execution_count": 0,
      "outputs": []
    },
    {
      "cell_type": "code",
      "metadata": {
        "id": "wsyYmKYOtEil",
        "colab_type": "code",
        "colab": {
          "base_uri": "https://localhost:8080/",
          "height": 136
        },
        "outputId": "99ac69ec-8450-4322-fccb-31e606f2fecf"
      },
      "source": [
        "doc = \"Tableau was recently acquired by Salesforce.\" \n",
        "doc = nlp(text) \n",
        "subtree_matcher(doc)\n",
        "\n",
        "for tok in doc: \n",
        "  print(tok.text,\"-->\",tok.dep_,\"-->\",tok.pos_)"
      ],
      "execution_count": 307,
      "outputs": [
        {
          "output_type": "stream",
          "text": [
            "Tableau --> nsubjpass --> PROPN\n",
            "was --> auxpass --> AUX\n",
            "recently --> advmod --> ADV\n",
            "acquired --> ROOT --> VERB\n",
            "by --> agent --> ADP\n",
            "Salesforce --> pobj --> PROPN\n",
            ". --> punct --> PUNCT\n"
          ],
          "name": "stdout"
        }
      ]
    },
    {
      "cell_type": "code",
      "metadata": {
        "id": "nyhUJ4HKH4hI",
        "colab_type": "code",
        "colab": {
          "base_uri": "https://localhost:8080/",
          "height": 421
        },
        "outputId": "3ae12a77-07a9-4d90-cb31-030566f4dd24"
      },
      "source": [
        "displacy.render(doc, style='dep',jupyter=True)"
      ],
      "execution_count": 308,
      "outputs": [
        {
          "output_type": "display_data",
          "data": {
            "text/html": [
              "<span class=\"tex2jax_ignore\"><svg xmlns=\"http://www.w3.org/2000/svg\" xmlns:xlink=\"http://www.w3.org/1999/xlink\" xml:lang=\"en\" id=\"c94864bc26b246c19b650837b4c50ab9-0\" class=\"displacy\" width=\"1100\" height=\"399.5\" direction=\"ltr\" style=\"max-width: none; height: 399.5px; color: #000000; background: #ffffff; font-family: Arial; direction: ltr\">\n",
              "<text class=\"displacy-token\" fill=\"currentColor\" text-anchor=\"middle\" y=\"309.5\">\n",
              "    <tspan class=\"displacy-word\" fill=\"currentColor\" x=\"50\">Tableau</tspan>\n",
              "    <tspan class=\"displacy-tag\" dy=\"2em\" fill=\"currentColor\" x=\"50\">PROPN</tspan>\n",
              "</text>\n",
              "\n",
              "<text class=\"displacy-token\" fill=\"currentColor\" text-anchor=\"middle\" y=\"309.5\">\n",
              "    <tspan class=\"displacy-word\" fill=\"currentColor\" x=\"225\">was</tspan>\n",
              "    <tspan class=\"displacy-tag\" dy=\"2em\" fill=\"currentColor\" x=\"225\">AUX</tspan>\n",
              "</text>\n",
              "\n",
              "<text class=\"displacy-token\" fill=\"currentColor\" text-anchor=\"middle\" y=\"309.5\">\n",
              "    <tspan class=\"displacy-word\" fill=\"currentColor\" x=\"400\">recently</tspan>\n",
              "    <tspan class=\"displacy-tag\" dy=\"2em\" fill=\"currentColor\" x=\"400\">ADV</tspan>\n",
              "</text>\n",
              "\n",
              "<text class=\"displacy-token\" fill=\"currentColor\" text-anchor=\"middle\" y=\"309.5\">\n",
              "    <tspan class=\"displacy-word\" fill=\"currentColor\" x=\"575\">acquired</tspan>\n",
              "    <tspan class=\"displacy-tag\" dy=\"2em\" fill=\"currentColor\" x=\"575\">VERB</tspan>\n",
              "</text>\n",
              "\n",
              "<text class=\"displacy-token\" fill=\"currentColor\" text-anchor=\"middle\" y=\"309.5\">\n",
              "    <tspan class=\"displacy-word\" fill=\"currentColor\" x=\"750\">by</tspan>\n",
              "    <tspan class=\"displacy-tag\" dy=\"2em\" fill=\"currentColor\" x=\"750\">ADP</tspan>\n",
              "</text>\n",
              "\n",
              "<text class=\"displacy-token\" fill=\"currentColor\" text-anchor=\"middle\" y=\"309.5\">\n",
              "    <tspan class=\"displacy-word\" fill=\"currentColor\" x=\"925\">Salesforce.</tspan>\n",
              "    <tspan class=\"displacy-tag\" dy=\"2em\" fill=\"currentColor\" x=\"925\">PROPN</tspan>\n",
              "</text>\n",
              "\n",
              "<g class=\"displacy-arrow\">\n",
              "    <path class=\"displacy-arc\" id=\"arrow-c94864bc26b246c19b650837b4c50ab9-0-0\" stroke-width=\"2px\" d=\"M70,264.5 C70,2.0 575.0,2.0 575.0,264.5\" fill=\"none\" stroke=\"currentColor\"/>\n",
              "    <text dy=\"1.25em\" style=\"font-size: 0.8em; letter-spacing: 1px\">\n",
              "        <textPath xlink:href=\"#arrow-c94864bc26b246c19b650837b4c50ab9-0-0\" class=\"displacy-label\" startOffset=\"50%\" side=\"left\" fill=\"currentColor\" text-anchor=\"middle\">nsubjpass</textPath>\n",
              "    </text>\n",
              "    <path class=\"displacy-arrowhead\" d=\"M70,266.5 L62,254.5 78,254.5\" fill=\"currentColor\"/>\n",
              "</g>\n",
              "\n",
              "<g class=\"displacy-arrow\">\n",
              "    <path class=\"displacy-arc\" id=\"arrow-c94864bc26b246c19b650837b4c50ab9-0-1\" stroke-width=\"2px\" d=\"M245,264.5 C245,89.5 570.0,89.5 570.0,264.5\" fill=\"none\" stroke=\"currentColor\"/>\n",
              "    <text dy=\"1.25em\" style=\"font-size: 0.8em; letter-spacing: 1px\">\n",
              "        <textPath xlink:href=\"#arrow-c94864bc26b246c19b650837b4c50ab9-0-1\" class=\"displacy-label\" startOffset=\"50%\" side=\"left\" fill=\"currentColor\" text-anchor=\"middle\">auxpass</textPath>\n",
              "    </text>\n",
              "    <path class=\"displacy-arrowhead\" d=\"M245,266.5 L237,254.5 253,254.5\" fill=\"currentColor\"/>\n",
              "</g>\n",
              "\n",
              "<g class=\"displacy-arrow\">\n",
              "    <path class=\"displacy-arc\" id=\"arrow-c94864bc26b246c19b650837b4c50ab9-0-2\" stroke-width=\"2px\" d=\"M420,264.5 C420,177.0 565.0,177.0 565.0,264.5\" fill=\"none\" stroke=\"currentColor\"/>\n",
              "    <text dy=\"1.25em\" style=\"font-size: 0.8em; letter-spacing: 1px\">\n",
              "        <textPath xlink:href=\"#arrow-c94864bc26b246c19b650837b4c50ab9-0-2\" class=\"displacy-label\" startOffset=\"50%\" side=\"left\" fill=\"currentColor\" text-anchor=\"middle\">advmod</textPath>\n",
              "    </text>\n",
              "    <path class=\"displacy-arrowhead\" d=\"M420,266.5 L412,254.5 428,254.5\" fill=\"currentColor\"/>\n",
              "</g>\n",
              "\n",
              "<g class=\"displacy-arrow\">\n",
              "    <path class=\"displacy-arc\" id=\"arrow-c94864bc26b246c19b650837b4c50ab9-0-3\" stroke-width=\"2px\" d=\"M595,264.5 C595,177.0 740.0,177.0 740.0,264.5\" fill=\"none\" stroke=\"currentColor\"/>\n",
              "    <text dy=\"1.25em\" style=\"font-size: 0.8em; letter-spacing: 1px\">\n",
              "        <textPath xlink:href=\"#arrow-c94864bc26b246c19b650837b4c50ab9-0-3\" class=\"displacy-label\" startOffset=\"50%\" side=\"left\" fill=\"currentColor\" text-anchor=\"middle\">agent</textPath>\n",
              "    </text>\n",
              "    <path class=\"displacy-arrowhead\" d=\"M740.0,266.5 L748.0,254.5 732.0,254.5\" fill=\"currentColor\"/>\n",
              "</g>\n",
              "\n",
              "<g class=\"displacy-arrow\">\n",
              "    <path class=\"displacy-arc\" id=\"arrow-c94864bc26b246c19b650837b4c50ab9-0-4\" stroke-width=\"2px\" d=\"M770,264.5 C770,177.0 915.0,177.0 915.0,264.5\" fill=\"none\" stroke=\"currentColor\"/>\n",
              "    <text dy=\"1.25em\" style=\"font-size: 0.8em; letter-spacing: 1px\">\n",
              "        <textPath xlink:href=\"#arrow-c94864bc26b246c19b650837b4c50ab9-0-4\" class=\"displacy-label\" startOffset=\"50%\" side=\"left\" fill=\"currentColor\" text-anchor=\"middle\">pobj</textPath>\n",
              "    </text>\n",
              "    <path class=\"displacy-arrowhead\" d=\"M915.0,266.5 L923.0,254.5 907.0,254.5\" fill=\"currentColor\"/>\n",
              "</g>\n",
              "</svg></span>"
            ],
            "text/plain": [
              "<IPython.core.display.HTML object>"
            ]
          },
          "metadata": {
            "tags": []
          }
        }
      ]
    },
    {
      "cell_type": "markdown",
      "metadata": {
        "id": "qJF33Ps2IrR9",
        "colab_type": "text"
      },
      "source": [
        "All we have to check is which dependency paths are common between multiple sentences. This method is known as Subtree matching."
      ]
    },
    {
      "cell_type": "code",
      "metadata": {
        "id": "2wNiUQ0UIVhA",
        "colab_type": "code",
        "colab": {}
      },
      "source": [
        ""
      ],
      "execution_count": 0,
      "outputs": []
    }
  ]
}